{
 "cells": [
  {
   "cell_type": "code",
   "execution_count": 11,
   "id": "0b0c89b7",
   "metadata": {},
   "outputs": [],
   "source": [
    "def test1(a):\n",
    "    \"\"\" this function is used to find out the length of the string without using built in fun len\"\"\"\n",
    "    if type(a)==str:\n",
    "        b=0\n",
    "        for i in a:\n",
    "            b+=1\n",
    "    print(\"length is\",b)"
   ]
  },
  {
   "cell_type": "code",
   "execution_count": 17,
   "id": "33f86240",
   "metadata": {},
   "outputs": [],
   "source": [
    "def test2(l):\n",
    "    \"\"\"this function is used to give the index of all the primitive elements\"\"\"\n",
    "    for i in range(len(l)):\n",
    "        print(i,l[i])"
   ]
  },
  {
   "cell_type": "code",
   "execution_count": 3,
   "id": "667881aa",
   "metadata": {},
   "outputs": [],
   "source": [
    "import platform\n",
    "def test3():\n",
    "    \"\"\" This function is used to provide details of system configuration\"\"\"\n",
    "    my_system = platform.uname()\n",
    "\n",
    "    print(f\"System: {my_system.system}\")\n",
    "    print(f\"Node Name: {my_system.node}\")\n",
    "    print(f\"Release: {my_system.release}\")\n",
    "    print(f\"Version: {my_system.version}\")\n",
    "    print(f\"Machine: {my_system.machine}\")\n",
    "    print(f\"Processor: {my_system.processor}\")\n"
   ]
  },
  {
   "cell_type": "code",
   "execution_count": 1,
   "id": "d13e670b",
   "metadata": {},
   "outputs": [],
   "source": [
    "import datetime\n",
    "def test4():\n",
    "    \"\"\" this function is used to provide current date and time\"\"\"\n",
    "    current_time = datetime.datetime.now()\n",
    "\n",
    "    print (\"The current time is : \")\n",
    "    print(current_time)\n"
   ]
  },
  {
   "cell_type": "code",
   "execution_count": null,
   "id": "2d68bc00",
   "metadata": {},
   "outputs": [],
   "source": [
    "import os\n",
    "def test5():\n",
    "    \"\"\" this function is used to move file from one directory to another directory \"\"\"\n",
    "    source = 'F:/source/'\n",
    "\n",
    "    destination = 'F:/destination/'\n",
    "\n",
    "    allfiles = os.listdir(source)\n",
    "\n",
    "    for f in allfiles:\n",
    "        os.rename(source + f, destination + f)\n"
   ]
  },
  {
   "cell_type": "code",
   "execution_count": 8,
   "id": "7577df25",
   "metadata": {},
   "outputs": [],
   "source": [
    "import os\n",
    "def test6():\n",
    "    \"\"\" this function is used to shut down the system\"\"\"\n",
    "    shutdown = input(\"Do you wish to shutdown your computer ? (yes / no): \")\n",
    "    if shutdown == 'no':\n",
    "        exit()\n",
    "    else:\n",
    "        os.system(\"shutdown /s /t 1\")\n"
   ]
  },
  {
   "cell_type": "code",
   "execution_count": 6,
   "id": "7e433933",
   "metadata": {},
   "outputs": [],
   "source": [
    "from email.mime.text import MIMEText\n",
    "from email.mime.image import MIMEImage\n",
    "from email.mime.application import MIMEApplication\n",
    "from email.mime.multipart import MIMEMultipart\n",
    "import smtplib\n",
    "import os\n",
    "\n",
    "def test7():\n",
    "    \"\"\" this function is used to access the gmail account\"\"\"\n",
    "    smtp = smtplib.SMTP('smtp.gmail.com', 587)\n",
    "    smtp.ehlo()\n",
    "    smtp.starttls()\n",
    "\n",
    "    smtp.login('abcd@gmail.com', '****')"
   ]
  },
  {
   "cell_type": "code",
   "execution_count": 5,
   "id": "4a527a87",
   "metadata": {},
   "outputs": [],
   "source": [
    "from email.mime.text import MIMEText\n",
    "from email.mime.image import MIMEImage\n",
    "from email.mime.application import MIMEApplication\n",
    "from email.mime.multipart import MIMEMultipart\n",
    "import smtplib\n",
    "import os\n",
    "\n",
    "def test8():\n",
    "    \"\"\" this function is used to send mail to any one \"\"\"\n",
    "    smtp = smtplib.SMTP('smtp.gmail.com', 587)\n",
    "    smtp.ehlo()\n",
    "    smtp.starttls()\n",
    "\n",
    "    smtp.login('abcd@gmail.com', '****')\n",
    "\n",
    "    def message(subject=\"Python Notification\",text=\"\", img=None,attachment=None):\n",
    "        msg = MIMEMultipart()\n",
    "        msg['Subject'] = subject\n",
    "        msg.attach(MIMEText(text))\n",
    "\n",
    "        if img is not None:\n",
    "            if type(img) is not list:\n",
    "                img = [img]\n",
    "                for one_img in img:\n",
    "                    img_data = open(one_img, 'rb').read()\n",
    "                    msg.attach(MIMEImage(img_data,\n",
    "\t\t\t\t\tname=os.path.basename(one_img)))\n",
    "\n",
    "                    if attachment is not None:\n",
    "\t\t\n",
    "                        if type(attachment) is not list:\n",
    "\t\t\t\n",
    "                            attachment = [attachment]\n",
    "\n",
    "                            for one_attachment in attachment:\n",
    "\n",
    "                                with open(one_attachment, 'rb') as f:\n",
    "\t\t\t\t\n",
    "                                    file = MIMEApplication(f.read(),name=os.path.basename(one_attachment))                           \n",
    "                                    file['Content-Disposition'] = f'attachment;\\filename=\"{os.path.basename(one_attachment)}\"'\n",
    "                                    msg.attach(file)      \n",
    "                                \n",
    "\t\t\t\n",
    "                    return msg\n",
    "\n",
    "    msg = message(\"Good!\", \"Hi there!\",r\"C:\\Users\\Sridhar Savadatti\\Pictures\\Screenshots\\LTA_query.jpg\",r\"D:\\session_python\\Session_Dec_4th.ipynb\")\n",
    "    to = [\"def@gmail.com\"]\n",
    "    smtp.sendmail(from_addr=\"hello@gmail.com\",to_addrs=to, msg=msg.as_string())\n",
    "    smtp.quit()\n"
   ]
  },
  {
   "cell_type": "code",
   "execution_count": null,
   "id": "2888d92f",
   "metadata": {},
   "outputs": [],
   "source": [
    "import PyPDF2\n",
    "def test9():\n",
    "    \"\"\" this function is used to read PDF file\"\"\"\n",
    "    pdfFileObj = open('example.pdf', 'rb')\n",
    "    pdfReader = PyPDF2.PdfFileReader(pdfFileObj)\n",
    "    print(pdfReader.numPages)\n",
    "    pageObj = pdfReader.getPage(0)\n",
    "    print(pageObj.extractText())\n",
    "    pdfFileObj.close()"
   ]
  },
  {
   "cell_type": "code",
   "execution_count": null,
   "id": "002004d0",
   "metadata": {},
   "outputs": [],
   "source": [
    "import docx\n",
    "def test10():\n",
    "    \"\"\" this function is used to read word file \"\"\"\n",
    "    doc = docx.Document(\"Downloads/LT Infotech_Name_PSNo_CV.docx\")\n",
    "    all_paras = doc.paragraphs\n",
    "    len(all_paras)\n",
    "    for para in all_paras:\n",
    "        print(para.text)\n",
    "        print(\"-------\")"
   ]
  },
  {
   "cell_type": "code",
   "execution_count": null,
   "id": "ee892f1d",
   "metadata": {},
   "outputs": [],
   "source": [
    "import socket\n",
    "def test11():\n",
    "    \"\"\" this function is used to find the ip address the system\"\"\"\n",
    "    def get_Host_name_IP():\n",
    "        try:\n",
    "            host_name = socket.gethostname()\n",
    "            host_ip = socket.gethostbyname(host_name)\n",
    "            print(\"Hostname : \",host_name)\n",
    "            print(\"IP : \",host_ip)\n",
    "        except:\n",
    "            print(\"Unable to get Hostname and IP\")\n",
    "    get_Host_name_IP()"
   ]
  },
  {
   "cell_type": "code",
   "execution_count": null,
   "id": "338ab7c8",
   "metadata": {},
   "outputs": [],
   "source": [
    "import PyPDF2\n",
    "def test12():\n",
    "    \"\"\" this function is used to append two PDF files\"\"\"\n",
    "    def PDFmerge(pdfs, output):\n",
    "        pdfMerger = PyPDF2.PdfFileMerger()\n",
    "        for pdf in pdfs:\n",
    "            pdfmerger.append(pdf)\n",
    "        with open(output, 'wb') as f:\n",
    "            pdfMerger.write(f)\n",
    "    def main():\n",
    "            pdfs = ['example.pdf', 'rotated_example.pdf']\n",
    "            output = 'combined_example.pdf'\n",
    "            PDFmerge(pdfs=pdfs, output=output)\n",
    "    if __name__ == \"__main__\":\n",
    "        main()\n"
   ]
  },
  {
   "cell_type": "code",
   "execution_count": null,
   "id": "db8c1596",
   "metadata": {},
   "outputs": [],
   "source": [
    "import cv2\n",
    "def test13():\n",
    "    \"\"\" this function is used to read the image file\"\"\"\n",
    "    img = cv2.imread('xyz.png')\n",
    "    cv2.imshow('image', img)\n",
    "    cv2.waitKey(0)\n",
    "    cv2.destroyAllWindows()\n"
   ]
  },
  {
   "cell_type": "code",
   "execution_count": null,
   "id": "abcc2ff6",
   "metadata": {},
   "outputs": [],
   "source": [
    "import cv2\n",
    "import numpy as np\n",
    "def test14():\n",
    "    \"\"\" this function is used to read the video file\"\"\"\n",
    "    cap = cv2.VideoCapture('pkcs.mp4')\n",
    "    if (cap.isOpened()== False):\n",
    "        print(\"Error opening video stream or file\")\n",
    "    while(cap.isOpened()):\n",
    "        ret, frame = cap.read()\n",
    "        if ret == True:\n",
    "            cv2.imshow('Frame',frame)\n",
    "            if cv2.waitKey(25) & 0xFF == ord('q'):\n",
    "                break\n",
    "        else:\n",
    "            break\n",
    "    cap.release()\n",
    "    cv2.destroyAllWindows()"
   ]
  },
  {
   "cell_type": "code",
   "execution_count": 41,
   "id": "fa6ef0da",
   "metadata": {},
   "outputs": [],
   "source": [
    "def test15(d):\n",
    "    \"\"\" this function takes i/p as diectionary and gives the list of all the values even in case of 2 nested levels\"\"\"\n",
    "    l=[]\n",
    "    if type(d)==dict:\n",
    "        for i in d.values():\n",
    "            for j in i.values():\n",
    "                l.append(j)\n",
    "        print(l)"
   ]
  },
  {
   "cell_type": "code",
   "execution_count": 61,
   "id": "698144cc",
   "metadata": {},
   "outputs": [],
   "source": [
    "def test16(*args):\n",
    "    \"\"\" this function will take two lists as i/p and provide concatenation of all the elements as output\"\"\"\n",
    "    l=[]\n",
    "    for i in args:\n",
    "        if type(i)==list:\n",
    "            l.append(i)\n",
    "    return l"
   ]
  }
 ],
 "metadata": {
  "kernelspec": {
   "display_name": "Python 3 (ipykernel)",
   "language": "python",
   "name": "python3"
  },
  "language_info": {
   "codemirror_mode": {
    "name": "ipython",
    "version": 3
   },
   "file_extension": ".py",
   "mimetype": "text/x-python",
   "name": "python",
   "nbconvert_exporter": "python",
   "pygments_lexer": "ipython3",
   "version": "3.9.7"
  }
 },
 "nbformat": 4,
 "nbformat_minor": 5
}
